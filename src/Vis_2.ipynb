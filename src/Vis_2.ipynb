{
 "cells": [
  {
   "cell_type": "code",
   "execution_count": 6,
   "metadata": {},
   "outputs": [],
   "source": [
    "# Konstanten, welche angepasst werden können\n",
    "## Gibt an in wie viele Gruppen die Geschwindigkeit eingeteilt werden soll\n",
    "GESCHWINDIGKEIT_BINS = 5\n",
    "## Gibt an in wieviele Gruppen die Herzfrequenz eingeteilt werden soll\n",
    "HERZFREQUENZ_BINS = 5"
   ]
  },
  {
   "cell_type": "code",
   "execution_count": 7,
   "metadata": {},
   "outputs": [],
   "source": [
    "import fitparse\n",
    "import os\n",
    "import plotly.express as px\n",
    "import plotly.graph_objects as go\n",
    "from ipywidgets import widgets\n",
    "import pandas as pd\n",
    "import numpy as np\n",
    "from fit_extractor import extract_day, extract_distance, extract_avg_speed, extract_avg_hf, groupInBins\n",
    "\n",
    "\n",
    "directory_path = 'data/v2/'\n",
    "\n",
    "# Lese alle im Verzeichnis vorliegenden Dateien ein\n",
    "fitfiles = []\n",
    "for file in os.listdir(directory_path):\n",
    "    file_path = os.path.join(directory_path, file)\n",
    "    if os.path.isfile(file_path):\n",
    "        fitfiles.append(fitparse.FitFile(file_path))"
   ]
  },
  {
   "cell_type": "code",
   "execution_count": 8,
   "metadata": {},
   "outputs": [],
   "source": [
    "# Ermittle interessante Daten zu jeder eingelesenen Datei\n",
    "dates = []\n",
    "distances = []\n",
    "avg_speeds = []\n",
    "avg_hf = []\n",
    "for file in fitfiles:\n",
    "    dates.append(extract_day(file))\n",
    "    distances.append(extract_distance(file))\n",
    "    avg_speeds.append(extract_avg_speed(file))\n",
    "    avg_hf.append(extract_avg_hf(file))\n",
    "\n",
    "# Speichere Daten in einem Dataframe und sortiere diesen\n",
    "df = pd.DataFrame({'Datum':dates, 'Distanz in km':distances, 'Ø Geschwindigkeit in km/h':avg_speeds, 'Ø Herzfrequenz in bpm': avg_hf})\n",
    "df.sort_values(by='Datum', inplace=True)"
   ]
  },
  {
   "cell_type": "code",
   "execution_count": 9,
   "metadata": {},
   "outputs": [],
   "source": [
    "# Transformation und Gruppierung der Daten\n",
    "binnedDf = df.copy()\n",
    "binnedDf['Distanz in km'] = df['Distanz in km'].apply(lambda x: round(x/1000))\n",
    "binnedDf['Ø Geschwindigkeit in km/h'] = df['Ø Geschwindigkeit in km/h'].apply(lambda x: groupInBins(df['Ø Geschwindigkeit in km/h'], x, GESCHWINDIGKEIT_BINS))\n",
    "binnedDf['Ø Herzfrequenz in bpm'] = df['Ø Herzfrequenz in bpm'].apply(lambda x: groupInBins(df['Ø Herzfrequenz in bpm'], x, HERZFREQUENZ_BINS))"
   ]
  },
  {
   "cell_type": "code",
   "execution_count": 10,
   "metadata": {},
   "outputs": [
    {
     "data": {
      "application/vnd.jupyter.widget-view+json": {
       "model_id": "9587bbe83914420198f25273a5d38ec0",
       "version_major": 2,
       "version_minor": 0
      },
      "text/plain": [
       "FigureWidget({\n",
       "    'data': [{'marker': {'color': 'gray'},\n",
       "              'mode': 'markers',\n",
       "              'sele…"
      ]
     },
     "metadata": {},
     "output_type": "display_data"
    }
   ],
   "source": [
    "categorical_dimensions = ['Distanz in km', 'Ø Geschwindigkeit in km/h', 'Ø Herzfrequenz in bpm'];\n",
    "dimensions = [dict(values=binnedDf[label], label=label) for label in categorical_dimensions]\n",
    "\n",
    "# Farbverlauf definieren\n",
    "color = np.zeros(len(binnedDf), dtype='uint8')\n",
    "colorscale = [[0, 'gray'], [1, 'firebrick']]\n",
    "\n",
    "# Visualisierung definieren\n",
    "fig = go.FigureWidget(\n",
    "    data=[go.Scatter(x=binnedDf.Datum, y=binnedDf['Distanz in km'],\n",
    "    marker={'color': 'gray'}, mode='markers', selected={'marker': {'color': 'firebrick'}},\n",
    "    unselected={'marker': {'opacity': 0.3}}), go.Parcats(\n",
    "        domain={'y': [0, 0.4]}, dimensions=dimensions,\n",
    "        line={'colorscale': colorscale, 'cmin': 0,\n",
    "              'cmax': 1, 'color': color, 'shape': 'hspline'})\n",
    "    ])\n",
    "\n",
    "fig.update_layout(\n",
    "        height=800, xaxis={'title': 'Zeit'},\n",
    "        yaxis={'title': 'Distanz in km', 'domain': [0.6, 1]},\n",
    "        dragmode='lasso', hovermode='closest')\n",
    "\n",
    "# Interaktionen definieren\n",
    "def update_color(trace, points, state):\n",
    "    fig.data[0].selectedpoints = points.point_inds\n",
    "    new_color = np.zeros(len(df), dtype='uint8')\n",
    "    new_color[points.point_inds] = 1\n",
    "    fig.data[1].line.color = new_color\n",
    "\n",
    "fig.data[0].on_selection(update_color)\n",
    "fig.data[1].on_click(update_color)\n",
    "\n",
    "fig"
   ]
  },
  {
   "cell_type": "code",
   "execution_count": null,
   "metadata": {},
   "outputs": [],
   "source": []
  }
 ],
 "metadata": {
  "interpreter": {
   "hash": "5816f5f46076ad8ff6dc22c3ddac2bb1d25c03981c18ad92b0ab9aea85b5a162"
  },
  "kernelspec": {
   "display_name": "Python 3 (ipykernel)",
   "language": "python",
   "name": "python3"
  },
  "language_info": {
   "codemirror_mode": {
    "name": "ipython",
    "version": 3
   },
   "file_extension": ".py",
   "mimetype": "text/x-python",
   "name": "python",
   "nbconvert_exporter": "python",
   "pygments_lexer": "ipython3",
   "version": "3.9.7"
  }
 },
 "nbformat": 4,
 "nbformat_minor": 2
}
